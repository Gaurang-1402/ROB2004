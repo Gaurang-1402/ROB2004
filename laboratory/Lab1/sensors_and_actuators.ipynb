{
 "cells": [
  {
   "cell_type": "markdown",
   "metadata": {},
   "source": [
    "# The NYU finger robot\n",
    "\n",
    "The robot is constituted of 4 rigid bodies together 3 joints. There is one motor per joint and we can send a desired torque to each motor and read the position (angle) and velocity of each joint using the position sensor attached on each motor (the internal software computes the velocities using finite differences).\n",
    "\n",
    "<img src=\"images/finger_edu_1.jpg\" width=600>\n",
    "\n",
    "More details on the robot are avaiable [here](https://github.com/open-dynamic-robot-initiative/open_robot_actuator_hardware/blob/master/mechanics/finger_edu_v1/README.md#fingeredu-v1)\n",
    "\n",
    "\n",
    "# PyBullet - a robot simulator\n",
    "\n",
    "[PyBullet](https://pybullet.org/wordpress/) is a \"rigid body dynamics\" simulator, it means that it can simulate any articulated, rigid, robot. For example our NYU finger but also more complex robots, such as a humanoid, a quadruped or a hand. It can also simulate other objects and several robots at the same time.\n",
    "\n",
    "## How does it work?\n",
    "\n",
    "In a nutshell, every simulator functions as follows:\n",
    "* First a description of the objects and robots to simulate are given, including their dynamic properties (masses, center of mass), their \"boundaries\" (to detect collisions between objects) and graphic files to visualize the robot. The visualization is often different than what is simulated (i.e. we often simplify the geometry of the robot, e.g. using cylinders, for the simulation but display all the details in the visualization)\n",
    "\n",
    "* At each instant of time, the simulator keeps track of all the collisions between all the objects, to know where to compute contact forces. Typically the collisions are simplified to make the simulation fast enough.\n",
    "\n",
    "* The simulator then computes all the forces exerted on all the objects and robots (e.g. gravity, contact between objects, etc) and uses Netwon's law of motion to compute the next position and velocity of all the objects.\n",
    "\n",
    "<img src=\"images/simulation_loop.jpg\" width=400>\n",
    "\n",
    "\n",
    "The user can then decide to apply forces/torques on certain joints, like a motor would do and read all the available information from the simulator to emulate real sensors.\n",
    "\n",
    "As a user, we then need to write a \"controller\" that decides what to do at each simulation step.\n",
    "\n",
    "\n",
    "## Working with the real robot\n",
    "Each robot has different interfaces to be able to read its sensors and send control commands, which can be different from the robot simulator code. For this laboratory, we have wrapped all the functionality needed from PyBullet into the class NYUFingerSimulator located in the file [nyu_finger_simulator.py](./nyu_finger_simulator.py) which also contains the same functions to control the real robot. Therefore, the controllers you write will work both in the simulator and the real robot.\n",
    "\n",
    "We detail below the typical control loop we will use throughout the class."
   ]
  },
  {
   "cell_type": "markdown",
   "metadata": {},
   "source": [
    "# Typical control loops with sensors and actuators\n",
    "\n",
    "We discuss in this section how we can make the robot move by sending motor commands.\n",
    "\n",
    "Every robot comes with a set of actuators that need to be controlled. Typically, a set of \"low-level\" controllers are available such that one can send a desired motor torque or a desired joint position and the robot controller will transform this into a current to modulate the rotation of an electric motor or the opening/closing of a pneumatic or hydraulic valve. This in turn will create a movement of the robot.\n",
    "\n",
    "In our class, we will assume that we can send a desired joint torque and that it will be achieved on the robot. PyBullet enables the same level of \"abstraction\" which is sufficient for most robot applications.\n",
    "\n",
    "We will now see how we can send desired motor torques to the robot."
   ]
  },
  {
   "cell_type": "markdown",
   "metadata": {},
   "source": [
    "## A typical control loop\n",
    "\n",
    "Here is a typical control loop (what you need to design to control a robot):\n",
    "1. First read the sensors\n",
    "2. Compute the desired torque commands\n",
    "3. Send the commands to the motors\n",
    "4. Repeat periodically (typically at a rate of ~100Hz to 1KHz)\n",
    "\n",
    "The example was doing \"open loop\" control because we did not use the sensor measurement to compute the desired commands. \"Closed loop\" control will make use of the sensors to compute the control commands.\n",
    "\n",
    "<img src=\"images/control_loop.png\" width=600>"
   ]
  },
  {
   "cell_type": "markdown",
   "metadata": {},
   "source": [
    "# Example of a simple control loop with the simulation and real robot"
   ]
  },
  {
   "cell_type": "markdown",
   "metadata": {},
   "source": [
    "## importing libraries \n",
    "The block below imports libraries we will need to do our work.\n",
    "\n",
    "The only variable of interest for you is the `use_real_robot` flag - when `True` it will use the real robot otherwise the simulation"
   ]
  },
  {
   "cell_type": "code",
   "execution_count": null,
   "metadata": {},
   "outputs": [],
   "source": [
    "#setup nice plotting (check if we are running in jupyterlab or notebook)\n",
    "jup_type = !jupyter --version\n",
    "if 'jupyterlab' in ' '.join(jup_type):\n",
    "    %matplotlib widget\n",
    "else:\n",
    "    %matplotlib notebook\n",
    "\n",
    "# we import useful libraries including numpy for easy algebra and matplot for plotting\n",
    "import numpy as np\n",
    "import matplotlib.pyplot as plt\n",
    "\n",
    "# we import the helper class to work with either the simulation or real robot\n",
    "use_real_robot = False\n",
    "\n",
    "if use_real_robot:\n",
    "    from nyu_finger import NYUFingerReal    \n",
    "else:\n",
    "    from nyu_finger_simulator import NYUFingerSimulator\n",
    "    \n"
   ]
  },
  {
   "cell_type": "markdown",
   "metadata": {},
   "source": [
    "## some configuration\n",
    "The block below checks if we are using the real robot or the simulator and configures a 'robot' object\n",
    "that provides a transparent interface with either the real robot or the simulate robot.\n",
    "\n",
    "The only thing that you need to change here is find the correct name of the port for the real robot you are using, i.e. change `ens1` to the name used on your robot"
   ]
  },
  {
   "cell_type": "code",
   "execution_count": null,
   "metadata": {},
   "outputs": [],
   "source": [
    "## if we are using the real robot\n",
    "if use_real_robot:\n",
    "    # Triggers the real robot\n",
    "    # Don't forget to turn on the robot first !!!\n",
    "    robot = NYUFingerReal()\n",
    "    \n",
    "    # Make sure that the motor number matches that on the robot\n",
    "    motor_number = np.array([1,2,3])\n",
    "    robot.initialize('ens1', motor_number)\n",
    "    \n",
    "## if we are using the simulation\n",
    "else:\n",
    "    # we can now create a robot simulation\n",
    "    robot = NYUFingerSimulator()"
   ]
  },
  {
   "cell_type": "markdown",
   "metadata": {},
   "source": [
    "## Main control loop\n",
    "This is the main code that you will have to change. This code initializes a few variables and then runs a control loop (the `for` statement), i.e. reads robot sensors -> do some computation -> send torque command to the actuators -> repeat"
   ]
  },
  {
   "cell_type": "code",
   "execution_count": null,
   "metadata": {},
   "outputs": [],
   "source": [
    "# we can now send a desired motor command and simulate the behavior of the robot\n",
    "# we send 0.1Nm on the first joint\n",
    "# we also record the measured state of the robot\n",
    "\n",
    "# below is a sample code to run the simulation / collect sensor and command data\n",
    "\n",
    "\n",
    "# we simulate for 20 seconds\n",
    "run_time = 20.\n",
    "dt = 0.001\n",
    "\n",
    "num_steps = int(run_time/dt)\n",
    "\n",
    "# we reset the simulation\n",
    "if not use_real_robot:\n",
    "    robot.reset_state([0.,0.,0.])\n",
    "\n",
    "## we allocate a few vectors to collect data while we do the simulation\n",
    "measured_positions = np.zeros([num_steps,3])\n",
    "measured_velocities = np.zeros_like(measured_positions)\n",
    "desired_torques = np.zeros_like(measured_positions)\n",
    "time = np.zeros([num_steps])\n",
    "\n",
    "## this is our main control loop ##\n",
    "## we do the loop for num_steps ##\n",
    "for i in range(num_steps):\n",
    "    \n",
    "    # get and save the current time\n",
    "    time[i] = dt * i\n",
    "    \n",
    "    # we read the position and velocities of the joints from the robot or simulation\n",
    "    q, dq = robot.get_state()\n",
    "    \n",
    "    # we store these values for later use\n",
    "    measured_positions[i,:] = q\n",
    "    measured_velocities[i,:] = dq\n",
    "    \n",
    "    # we compute the desired torques\n",
    "    # here we send a constant torque to each joint\n",
    "    joint_torques = np.array([0.0,0.2,0.])\n",
    "    desired_torques[i,:] = joint_torques\n",
    "    \n",
    "    # we send them to the robot\n",
    "    robot.send_joint_torque(joint_torques)\n",
    "    \n",
    "    # we ask the simulator to do one simulation step\n",
    "    robot.step()    "
   ]
  },
  {
   "cell_type": "markdown",
   "metadata": {},
   "source": [
    "## Plotting data after the simulation\n",
    "we stored some data (joint angles and time) while the control loop was running above\n",
    "Here is an example of plots we can generate with this data.\n",
    "You can of course generate any types of plot relevant to your problem."
   ]
  },
  {
   "cell_type": "code",
   "execution_count": null,
   "metadata": {},
   "outputs": [],
   "source": [
    "# we plot the measured position and velocities of all the joints\n",
    "joint_names = [\"HAA\", \"HFE\", \"KFE\"]\n",
    "\n",
    "# plot the positions\n",
    "plt.figure(figsize=[6, 12])\n",
    "plt.title('joint positions')\n",
    "for i in range(3):\n",
    "    plt.subplot(3,1,i+1)\n",
    "    plt.plot(time, measured_positions[:,i])\n",
    "    plt.ylabel(joint_names[i] + ' [rad]')\n",
    "plt.xlabel('Time[s]')\n",
    "\n",
    "\n",
    "# plot the velocities\n",
    "plt.figure(figsize=[6, 12])\n",
    "plt.title('joint velocities')\n",
    "for i in range(3):\n",
    "    plt.subplot(3,1,i+1)\n",
    "    plt.plot(time, measured_velocities[:,i])\n",
    "    plt.ylabel(joint_names[i] + ' [rad/s]')\n",
    "plt.xlabel('Time[s]')"
   ]
  },
  {
   "cell_type": "markdown",
   "metadata": {},
   "source": [
    "## Questions:\n",
    "(submit a pdf with detailed answers to these questions, including the plots through Brightspace)\n",
    "1. What is the control rate that we used in this example in Hz?\n",
    "\n",
    "2. The code sends 0 Nm to all the joints. Locate in the code the place where sensors are read from the robot and commands are sent to the robot. What sensors are read? What type of commands are sent?\n",
    "  \n",
    "3. Run the code and plot the joint positions and velocities. What did you observe? Why?\n",
    "\n",
    "4. Run the same code on the real robot. Move the robot (carefully) and plot the joint positions and velocities. Do the plot correspond to the motion you performed?\n",
    "\n",
    "5. Perform the same experiment (simulation + real robot) but now send 0.2 Nm to the second joint."
   ]
  },
  {
   "cell_type": "code",
   "execution_count": null,
   "metadata": {},
   "outputs": [],
   "source": []
  }
 ],
 "metadata": {
  "kernelspec": {
   "display_name": "Python 3 (ipykernel)",
   "language": "python",
   "name": "python3"
  },
  "language_info": {
   "codemirror_mode": {
    "name": "ipython",
    "version": 3
   },
   "file_extension": ".py",
   "mimetype": "text/x-python",
   "name": "python",
   "nbconvert_exporter": "python",
   "pygments_lexer": "ipython3",
   "version": "3.12.1"
  }
 },
 "nbformat": 4,
 "nbformat_minor": 4
}
